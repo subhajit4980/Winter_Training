{
 "cells": [
  {
   "cell_type": "code",
   "execution_count": 1,
   "metadata": {},
   "outputs": [],
   "source": [
    "import numpy as np"
   ]
  },
  {
   "cell_type": "code",
   "execution_count": 16,
   "metadata": {},
   "outputs": [],
   "source": [
    "arr=np.array([2,3,2,4])"
   ]
  },
  {
   "cell_type": "code",
   "execution_count": 19,
   "metadata": {},
   "outputs": [
    {
     "name": "stdout",
     "output_type": "stream",
     "text": [
      "[5 3 2 4]\n"
     ]
    }
   ],
   "source": [
    "arr[0]=5\n",
    "print(arr)"
   ]
  },
  {
   "cell_type": "code",
   "execution_count": 20,
   "metadata": {},
   "outputs": [
    {
     "name": "stdout",
     "output_type": "stream",
     "text": [
      "<class 'numpy.ndarray'>\n"
     ]
    }
   ],
   "source": [
    "print(type(arr))"
   ]
  },
  {
   "cell_type": "code",
   "execution_count": 21,
   "metadata": {},
   "outputs": [
    {
     "name": "stdout",
     "output_type": "stream",
     "text": [
      "shape of the array (4,)\n"
     ]
    }
   ],
   "source": [
    "print(\"shape of the array\",arr.shape)"
   ]
  },
  {
   "cell_type": "code",
   "execution_count": 28,
   "metadata": {},
   "outputs": [
    {
     "name": "stderr",
     "output_type": "stream",
     "text": [
      "C:\\Users\\subhajit\\AppData\\Local\\Temp\\ipykernel_3160\\3195367090.py:1: VisibleDeprecationWarning: Creating an ndarray from ragged nested sequences (which is a list-or-tuple of lists-or-tuples-or ndarrays with different lengths or shapes) is deprecated. If you meant to do this, you must specify 'dtype=object' when creating the ndarray.\n",
      "  arrn=np.array(\n"
     ]
    }
   ],
   "source": [
    "arrn=np.array(\n",
    "    [\n",
    "        [\n",
    "            [2,3,2,1],\n",
    "            [3,43,2,4],\n",
    "            [89,32,23,43],\n",
    "        ],\n",
    "        [\n",
    "            [2,3,2,1],\n",
    "            [3,43,2,4],\n",
    "            [89,32,23,43],\n",
    "        ],\n",
    "        [\n",
    "            [2,3,2,1],\n",
    "            [3,43,2,4],\n",
    "            [89,32,23,43]\n",
    "        ]\n",
    "    ]\n",
    ")"
   ]
  },
  {
   "cell_type": "code",
   "execution_count": 29,
   "metadata": {},
   "outputs": [
    {
     "name": "stdout",
     "output_type": "stream",
     "text": [
      "[[[2 3 2 1]\n",
      "  [3 43 2 4]\n",
      "  [89 32 23 43]\n",
      "  [list([2, 3, 2, 1]) list([3, 43, 2, 4]) list([89, 32, 23, 43])\n",
      "   list([[2, 3, 2, 1], [3, 43, 2, 4], [89, 32, 23, 43]])]]]\n"
     ]
    }
   ],
   "source": [
    "print(arrn)"
   ]
  },
  {
   "cell_type": "code",
   "execution_count": null,
   "metadata": {},
   "outputs": [],
   "source": []
  }
 ],
 "metadata": {
  "kernelspec": {
   "display_name": "Python 3",
   "language": "python",
   "name": "python3"
  },
  "language_info": {
   "codemirror_mode": {
    "name": "ipython",
    "version": 3
   },
   "file_extension": ".py",
   "mimetype": "text/x-python",
   "name": "python",
   "nbconvert_exporter": "python",
   "pygments_lexer": "ipython3",
   "version": "3.10.5"
  },
  "orig_nbformat": 4,
  "vscode": {
   "interpreter": {
    "hash": "55262b40c6a9c25c9fe9e51fc6de6e237e9b063d90944014a2e6f8de986cde20"
   }
  }
 },
 "nbformat": 4,
 "nbformat_minor": 2
}
